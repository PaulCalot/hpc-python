{
 "cells": [
  {
   "cell_type": "code",
   "execution_count": 3,
   "id": "c357efdb-75a2-4bb4-81f8-5a4212cd22c1",
   "metadata": {},
   "outputs": [],
   "source": [
    "import numpy as np\n",
    "def brute_force_version(N):\n",
    "    arr = np.arange(N)\n",
    "    dif = np.zeros(N-1, int)\n",
    "    for i in range(1, len(arr)):\n",
    "        dif[i-1] = arr[i] - arr[i-1]\n",
    "\n",
    "def vectorized_version(N):\n",
    "    # vectorised operation\n",
    "    arr = np.arange(N)\n",
    "    dif = arr[1:] - arr[:-1]"
   ]
  },
  {
   "cell_type": "code",
   "execution_count": 7,
   "id": "2881bd4f-20c8-46f3-bb2c-7f2155f0de06",
   "metadata": {},
   "outputs": [
    {
     "name": "stdout",
     "output_type": "stream",
     "text": [
      "4.27 µs ± 66.6 ns per loop (mean ± std. dev. of 7 runs, 100000 loops each)\n",
      "1.27 µs ± 18.4 ns per loop (mean ± std. dev. of 7 runs, 1000000 loops each)\n",
      "34.9 µs ± 1.25 µs per loop (mean ± std. dev. of 7 runs, 10000 loops each)\n",
      "1.32 µs ± 4.62 ns per loop (mean ± std. dev. of 7 runs, 1000000 loops each)\n",
      "327 µs ± 3.39 µs per loop (mean ± std. dev. of 7 runs, 1000 loops each)\n",
      "2.22 µs ± 12.6 ns per loop (mean ± std. dev. of 7 runs, 100000 loops each)\n",
      "3.26 ms ± 27 µs per loop (mean ± std. dev. of 7 runs, 100 loops each)\n",
      "9.94 µs ± 28.2 ns per loop (mean ± std. dev. of 7 runs, 100000 loops each)\n"
     ]
    }
   ],
   "source": [
    "%timeit brute_force_version(10)\n",
    "%timeit vectorized_version(10)\n",
    "%timeit brute_force_version(100)\n",
    "%timeit vectorized_version(100)\n",
    "%timeit brute_force_version(1000)\n",
    "%timeit vectorized_version(1000)\n",
    "%timeit brute_force_version(10000)\n",
    "%timeit vectorized_version(10000)"
   ]
  },
  {
   "cell_type": "code",
   "execution_count": null,
   "id": "64ad19c1-7573-4bd5-aca8-7c09febce0fd",
   "metadata": {},
   "outputs": [],
   "source": []
  }
 ],
 "metadata": {
  "kernelspec": {
   "display_name": "Python 3",
   "language": "python",
   "name": "python3"
  },
  "language_info": {
   "codemirror_mode": {
    "name": "ipython",
    "version": 3
   },
   "file_extension": ".py",
   "mimetype": "text/x-python",
   "name": "python",
   "nbconvert_exporter": "python",
   "pygments_lexer": "ipython3",
   "version": "3.8.8"
  }
 },
 "nbformat": 4,
 "nbformat_minor": 5
}
